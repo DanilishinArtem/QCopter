{
 "cells": [
  {
   "cell_type": "code",
   "execution_count": 1,
   "metadata": {},
   "outputs": [],
   "source": [
    "from msgs import MAVLink_heartbeat_message"
   ]
  },
  {
   "cell_type": "code",
   "execution_count": 3,
   "metadata": {},
   "outputs": [
    {
     "name": "stdout",
     "output_type": "stream",
     "text": [
      "b'\\xfe\\t\\x00\\x01\\x01\\x00\\x00\\x00\\x00\\x00\\x02\\x01\\x00\\x00\\x01\\x89R'\n"
     ]
    }
   ],
   "source": [
    "# __init__(self, type: int, autopilot: int, base_mode: int, custom_mode: int, system_status: int, mavlink_version: int)\n",
    "MAV_TYPE = 2\n",
    "MAV_AUTOPILOT = 1\n",
    "MAV_MODE = 0\n",
    "MAV_STATE = 0\n",
    "MAVLINK_VERSION = 1\n",
    "CRC_EXTRA_HEARTBEAT = 50\n",
    "CRC_EXTRA_COMMAND_LONG = 20\n",
    "CRC_EXTRA_COMMAND_ACK = 143\n",
    "\n",
    "msg = MAVLink_heartbeat_message(type=MAV_TYPE, autopilot=MAV_AUTOPILOT, base_mode=MAV_MODE, custom_mode=MAV_MODE, system_status=MAV_STATE, mavlink_version=MAVLINK_VERSION)\n",
    "for i in range(1):\n",
    "    print(msg.pack())"
   ]
  },
  {
   "cell_type": "markdown",
   "metadata": {},
   "source": [
    "# Testing decoder"
   ]
  },
  {
   "cell_type": "code",
   "execution_count": 4,
   "metadata": {},
   "outputs": [
    {
     "name": "stdout",
     "output_type": "stream",
     "text": [
      "MANUAL_CONTROL {target : 1, x : 0, y : 0, z : 500, r : 0, buttons : 0}\n",
      "x: 0, y: 0, z: 500\n"
     ]
    }
   ],
   "source": [
    "from decoder import decoder\n",
    "\n",
    "dec = decoder()\n",
    "# known msgs ------------------------>\n",
    "# from_msg = b'\\xfe!\\x13\\xff\\xbeL\\x00\\x00\\x14C\\x00\\x00\\x00\\x00\\x00\\x00\\x00\\x00\\x00\\x00\\x00\\x00\\x00\\x00\\x00\\x00\\x00\\x00\\x00\\x00\\x00\\x00\\x00\\x00\\x00\\x02\\x01\\x01\\x00Q-'\n",
    "\n",
    "# unknown msgs ------------------------>\n",
    "# from_msg = b'\\xfe\\x0b\\x16\\xff\\xbeE\\x00\\x00\\x00\\x00\\xf4\\x01\\x00\\x00\\x00\\x00\\x01\\xb2\\x82'\n",
    "# from_msg = b'\\xfe\\x0b \\xff\\xbeE\\x00\\x00\\x00\\x00\\xf4\\x01\\x00\\x00\\x00\\x00\\x01hT'\n",
    "from_msg = b'\\xfe\\x0b\\xe5\\xff\\xbeE\\x00\\x00\\x00\\x00\\xf4\\x01\\x00\\x00\\x00\\x00\\x01\\r@'\n",
    "\n",
    "\n",
    "\n",
    "for byte in from_msg:\n",
    "    msg = dec.parse_char(bytes([byte]))  # Преобразуем каждый элемент в байт\n",
    "    if msg:\n",
    "        # Проверяем тип сообщения\n",
    "        print(msg)\n",
    "        if msg.get_type() == \"MANUAL_CONTROL\":\n",
    "            # Извлекаем значения полей\n",
    "            x = msg.x\n",
    "            y = msg.y\n",
    "            z = msg.z\n",
    "            print(f\"x: {x}, y: {y}, z: {z}\")\n"
   ]
  },
  {
   "cell_type": "code",
   "execution_count": null,
   "metadata": {},
   "outputs": [],
   "source": [
    "import struct\n",
    "temp = bytearray(b'\\xfe\\x0b\\xe5\\xff\\xbeE')\n",
    "struct.unpack(\"<cBBBBB\", temp)\n",
    "# temp.decode('utf-8')"
   ]
  },
  {
   "cell_type": "code",
   "execution_count": 5,
   "metadata": {},
   "outputs": [
    {
     "name": "stdout",
     "output_type": "stream",
     "text": [
      "x: 0, y: 0, z: 500, r: 0, buttons : 0\n"
     ]
    }
   ],
   "source": [
    "from pymavlink import mavutil\n",
    "\n",
    "# Создаем объект MAVLink\n",
    "master = mavutil.mavlink.MAVLink(None)  # None, потому что мы не используем поток данных\n",
    "\n",
    "# Сообщение в байтах\n",
    "from_msg = b'\\xfe\\x0b\\xe5\\xff\\xbeE\\x00\\x00\\x00\\x00\\xf4\\x01\\x00\\x00\\x00\\x00\\x01\\r@'\n",
    "\n",
    "# Парсинг сообщения\n",
    "for byte in from_msg:\n",
    "    msg = master.parse_char(bytes([byte]))  # Преобразуем каждый элемент в байт\n",
    "    if msg:\n",
    "        # Проверяем тип сообщения\n",
    "        if msg.get_type() == \"MANUAL_CONTROL\":\n",
    "            # Извлекаем значения полей\n",
    "            x = msg.x\n",
    "            y = msg.y\n",
    "            z = msg.z\n",
    "            print(f\"x: {msg.x}, y: {msg.y}, z: {msg.z}, r: {msg.r}, buttons : {msg.buttons}\")"
   ]
  },
  {
   "cell_type": "markdown",
   "metadata": {},
   "source": [
    "# Sending mpu datas to qground "
   ]
  },
  {
   "cell_type": "code",
   "execution_count": 2,
   "metadata": {},
   "outputs": [],
   "source": [
    "import math\n",
    "import time\n",
    "\n",
    "class ComplementaryFilter:\n",
    "    def __init__(self, alpha=0.999):\n",
    "        self.alpha = alpha\n",
    "        self.roll = 0.0\n",
    "        self.pitch = 0.0\n",
    "        self.yaw = 0.0\n",
    "        self.last_time = time.time()\n",
    "        self.init_roll = None\n",
    "        self.init_pitch = None\n",
    "        self.init_yaw = None\n",
    "\n",
    "    def wrap_to_pi(self, angle):\n",
    "        return (angle + math.pi) % (2 * math.pi) - math.pi\n",
    "\n",
    "    def update(self, accel, gyro, mag):\n",
    "        current_time = time.time()\n",
    "        dt = current_time - self.last_time\n",
    "        self.last_time = current_time\n",
    "\n",
    "        # Вычисление углов на основе акселерометра\n",
    "        accel_roll = math.atan2(accel.y, accel.z)\n",
    "        accel_pitch = math.atan2(-accel.x, math.sqrt(accel.y**2 + accel.z**2))\n",
    "\n",
    "        # Вычисление изменения углов на основе гироскопа\n",
    "        gyro_roll = gyro.x * dt\n",
    "        gyro_pitch = gyro.y * dt\n",
    "        gyro_yaw = gyro.z * dt\n",
    "\n",
    "        # Комплементарный фильтр для roll и pitch\n",
    "        self.roll = self.alpha * (self.roll + gyro_roll) + (1 - self.alpha) * accel_roll\n",
    "        self.pitch = self.alpha * (self.pitch + gyro_pitch) + (1 - self.alpha) * accel_pitch\n",
    "\n",
    "        # Рассчет yaw на основе магнитометра\n",
    "        mag_x = mag.x * math.cos(self.pitch) + mag.y * math.sin(self.roll) * math.sin(self.pitch) + mag.z * math.cos(self.roll) * math.sin(self.pitch)\n",
    "        mag_y = mag.y * math.cos(self.roll) - mag.z * math.sin(self.roll)\n",
    "        self.yaw = math.atan2(mag_y, mag_x)\n",
    "\n",
    "        # Угловые скорости\n",
    "        rollspeed = gyro.x  # уже в радианах/сек\n",
    "        pitchspeed = gyro.y  # уже в радианах/сек\n",
    "        yawspeed = gyro.z  # уже в радианах/сек\n",
    "\n",
    "        # Инициализация углов (зафиксировать стартовые значения)\n",
    "        if self.init_roll is None and self.init_pitch is None and self.init_yaw is None:\n",
    "            self.init_roll = self.roll\n",
    "            self.init_pitch = self.pitch\n",
    "            self.init_yaw = self.yaw\n",
    "\n",
    "        # Приведение углов к диапазону [-pi, pi] относительно инициализации\n",
    "        self.roll = self.wrap_to_pi(self.roll - self.init_roll)\n",
    "        self.pitch = self.wrap_to_pi(self.pitch - self.init_pitch)\n",
    "        self.yaw = self.wrap_to_pi(self.yaw - self.init_yaw)\n",
    "\n",
    "        return self.roll, self.pitch, self.yaw, rollspeed, pitchspeed, yawspeed\n"
   ]
  }
 ],
 "metadata": {
  "kernelspec": {
   "display_name": "python",
   "language": "python",
   "name": "python3"
  },
  "language_info": {
   "codemirror_mode": {
    "name": "ipython",
    "version": 3
   },
   "file_extension": ".py",
   "mimetype": "text/x-python",
   "name": "python",
   "nbconvert_exporter": "python",
   "pygments_lexer": "ipython3",
   "version": "3.10.12"
  }
 },
 "nbformat": 4,
 "nbformat_minor": 2
}
