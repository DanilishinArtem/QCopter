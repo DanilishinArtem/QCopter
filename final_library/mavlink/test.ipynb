{
 "cells": [
  {
   "cell_type": "code",
   "execution_count": 1,
   "metadata": {},
   "outputs": [],
   "source": [
    "from msgs import MAVLink_heartbeat_message"
   ]
  },
  {
   "cell_type": "code",
   "execution_count": 3,
   "metadata": {},
   "outputs": [
    {
     "name": "stdout",
     "output_type": "stream",
     "text": [
      "b'\\xfe\\t\\x00\\x01\\x01\\x00\\x00\\x00\\x00\\x00\\x02\\x01\\x00\\x00\\x01\\x89R'\n"
     ]
    }
   ],
   "source": [
    "# __init__(self, type: int, autopilot: int, base_mode: int, custom_mode: int, system_status: int, mavlink_version: int)\n",
    "MAV_TYPE = 2\n",
    "MAV_AUTOPILOT = 1\n",
    "MAV_MODE = 0\n",
    "MAV_STATE = 0\n",
    "MAVLINK_VERSION = 1\n",
    "CRC_EXTRA_HEARTBEAT = 50\n",
    "CRC_EXTRA_COMMAND_LONG = 20\n",
    "CRC_EXTRA_COMMAND_ACK = 143\n",
    "\n",
    "msg = MAVLink_heartbeat_message(type=MAV_TYPE, autopilot=MAV_AUTOPILOT, base_mode=MAV_MODE, custom_mode=MAV_MODE, system_status=MAV_STATE, mavlink_version=MAVLINK_VERSION)\n",
    "for i in range(1):\n",
    "    print(msg.pack())"
   ]
  },
  {
   "cell_type": "markdown",
   "metadata": {},
   "source": [
    "# Testing decoder"
   ]
  },
  {
   "cell_type": "code",
   "execution_count": 4,
   "metadata": {},
   "outputs": [
    {
     "name": "stdout",
     "output_type": "stream",
     "text": [
      "MANUAL_CONTROL {target : 1, x : 0, y : 0, z : 500, r : 0, buttons : 0}\n",
      "x: 0, y: 0, z: 500\n"
     ]
    }
   ],
   "source": [
    "from decoder import decoder\n",
    "\n",
    "dec = decoder()\n",
    "# known msgs ------------------------>\n",
    "# from_msg = b'\\xfe!\\x13\\xff\\xbeL\\x00\\x00\\x14C\\x00\\x00\\x00\\x00\\x00\\x00\\x00\\x00\\x00\\x00\\x00\\x00\\x00\\x00\\x00\\x00\\x00\\x00\\x00\\x00\\x00\\x00\\x00\\x00\\x00\\x02\\x01\\x01\\x00Q-'\n",
    "\n",
    "# unknown msgs ------------------------>\n",
    "# from_msg = b'\\xfe\\x0b\\x16\\xff\\xbeE\\x00\\x00\\x00\\x00\\xf4\\x01\\x00\\x00\\x00\\x00\\x01\\xb2\\x82'\n",
    "# from_msg = b'\\xfe\\x0b \\xff\\xbeE\\x00\\x00\\x00\\x00\\xf4\\x01\\x00\\x00\\x00\\x00\\x01hT'\n",
    "from_msg = b'\\xfe\\x0b\\xe5\\xff\\xbeE\\x00\\x00\\x00\\x00\\xf4\\x01\\x00\\x00\\x00\\x00\\x01\\r@'\n",
    "\n",
    "\n",
    "\n",
    "for byte in from_msg:\n",
    "    msg = dec.parse_char(bytes([byte]))  # Преобразуем каждый элемент в байт\n",
    "    if msg:\n",
    "        # Проверяем тип сообщения\n",
    "        print(msg)\n",
    "        if msg.get_type() == \"MANUAL_CONTROL\":\n",
    "            # Извлекаем значения полей\n",
    "            x = msg.x\n",
    "            y = msg.y\n",
    "            z = msg.z\n",
    "            print(f\"x: {x}, y: {y}, z: {z}\")\n"
   ]
  },
  {
   "cell_type": "code",
   "execution_count": null,
   "metadata": {},
   "outputs": [],
   "source": [
    "import struct\n",
    "temp = bytearray(b'\\xfe\\x0b\\xe5\\xff\\xbeE')\n",
    "struct.unpack(\"<cBBBBB\", temp)\n",
    "# temp.decode('utf-8')"
   ]
  },
  {
   "cell_type": "code",
   "execution_count": 5,
   "metadata": {},
   "outputs": [
    {
     "name": "stdout",
     "output_type": "stream",
     "text": [
      "x: 0, y: 0, z: 500, r: 0, buttons : 0\n"
     ]
    }
   ],
   "source": [
    "from pymavlink import mavutil\n",
    "\n",
    "# Создаем объект MAVLink\n",
    "master = mavutil.mavlink.MAVLink(None)  # None, потому что мы не используем поток данных\n",
    "\n",
    "# Сообщение в байтах\n",
    "from_msg = b'\\xfe\\x0b\\xe5\\xff\\xbeE\\x00\\x00\\x00\\x00\\xf4\\x01\\x00\\x00\\x00\\x00\\x01\\r@'\n",
    "\n",
    "# Парсинг сообщения\n",
    "for byte in from_msg:\n",
    "    msg = master.parse_char(bytes([byte]))  # Преобразуем каждый элемент в байт\n",
    "    if msg:\n",
    "        # Проверяем тип сообщения\n",
    "        if msg.get_type() == \"MANUAL_CONTROL\":\n",
    "            # Извлекаем значения полей\n",
    "            x = msg.x\n",
    "            y = msg.y\n",
    "            z = msg.z\n",
    "            print(f\"x: {msg.x}, y: {msg.y}, z: {msg.z}, r: {msg.r}, buttons : {msg.buttons}\")"
   ]
  },
  {
   "cell_type": "markdown",
   "metadata": {},
   "source": [
    "# Sending mpu datas to qground "
   ]
  },
  {
   "cell_type": "code",
   "execution_count": 2,
   "metadata": {},
   "outputs": [
    {
     "name": "stdout",
     "output_type": "stream",
     "text": [
      "messege = b'\\xfe\\x15\\x00\\x01\\x01\\x1a\\x00\\x00\\x00\\x00\\x00\\x00\\x01\\x00\\x02\\x00\\x06\\x00\\x02\\x00\\x00\\x00\\x08\\x00\\x06\\x00\\x01\\x17v'\n"
     ]
    }
   ],
   "source": [
    "from msgs import MAVLink_scaled_imu_message\n",
    "\n",
    "class accel:\n",
    "    x = 0.1\n",
    "    y = 1.1\n",
    "    z = 2.1\n",
    "\n",
    "class gyro:\n",
    "    x = 6.1\n",
    "    y = 2.1\n",
    "    z = 0.1\n",
    "\n",
    "class mag:\n",
    "    x = 8.1\n",
    "    y = 6.1\n",
    "    z = 1.1\n",
    "\n",
    "class mpu:\n",
    "    accel = accel\n",
    "    gyro = gyro\n",
    "    mag = mag\n",
    "\n",
    "\n",
    "agm = MAVLink_scaled_imu_message(0, int(mpu.accel.x), int(mpu.accel.y), int(mpu.accel.z), int(mpu.gyro.x), int(mpu.gyro.y), int(mpu.gyro.z), int(mpu.mag.x), int(mpu.mag.y), int(mpu.mag.z))\n",
    "print('messege = {}'.format(agm.pack()))\n"
   ]
  }
 ],
 "metadata": {
  "kernelspec": {
   "display_name": "python",
   "language": "python",
   "name": "python3"
  },
  "language_info": {
   "codemirror_mode": {
    "name": "ipython",
    "version": 3
   },
   "file_extension": ".py",
   "mimetype": "text/x-python",
   "name": "python",
   "nbconvert_exporter": "python",
   "pygments_lexer": "ipython3",
   "version": "3.10.12"
  }
 },
 "nbformat": 4,
 "nbformat_minor": 2
}
