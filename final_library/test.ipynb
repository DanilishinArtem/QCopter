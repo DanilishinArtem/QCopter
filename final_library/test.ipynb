{
 "cells": [
  {
   "cell_type": "code",
   "execution_count": 1,
   "metadata": {},
   "outputs": [],
   "source": [
    "from msgs import MAVLink_heartbeat_message"
   ]
  },
  {
   "cell_type": "code",
   "execution_count": 2,
   "metadata": {},
   "outputs": [
    {
     "name": "stdout",
     "output_type": "stream",
     "text": [
      "b'\\xfe\\t\\x00\\x01\\x01\\x00\\x00\\x00\\x00\\x00\\x02\\x01\\x00\\x00\\x01\\x89R'\n"
     ]
    }
   ],
   "source": [
    "# __init__(self, type: int, autopilot: int, base_mode: int, custom_mode: int, system_status: int, mavlink_version: int)\n",
    "MAV_TYPE = 2\n",
    "MAV_AUTOPILOT = 1\n",
    "MAV_MODE = 0\n",
    "MAV_STATE = 0\n",
    "MAVLINK_VERSION = 1\n",
    "CRC_EXTRA_HEARTBEAT = 50\n",
    "CRC_EXTRA_COMMAND_LONG = 20\n",
    "CRC_EXTRA_COMMAND_ACK = 143\n",
    "\n",
    "msg = MAVLink_heartbeat_message(type=MAV_TYPE, autopilot=MAV_AUTOPILOT, base_mode=MAV_MODE, custom_mode=MAV_MODE, system_status=MAV_STATE, mavlink_version=MAVLINK_VERSION)\n",
    "for i in range(1):\n",
    "    print(msg.get_message())"
   ]
  },
  {
   "cell_type": "markdown",
   "metadata": {},
   "source": [
    "# Testing decoder"
   ]
  },
  {
   "cell_type": "code",
   "execution_count": 5,
   "metadata": {},
   "outputs": [
    {
     "name": "stdout",
     "output_type": "stream",
     "text": [
      "COMMAND_LONG {target_system : 1, target_component : 1, command : 521, confirmation : 0, param1 : 1.0, param2 : 0.0, param3 : 0.0, param4 : 0.0, param5 : 0.0, param6 : 0.0, param7 : 0.0}\n"
     ]
    }
   ],
   "source": [
    "from decoder import decoder\n",
    "\n",
    "dec = decoder()\n",
    "mavlink_message = b'\\xfe!\\x0f\\xff\\xbeL\\x00\\x00\\x80?\\x00\\x00\\x00\\x00\\x00\\x00\\x00\\x00\\x00\\x00\\x00\\x00\\x00\\x00\\x00\\x00\\x00\\x00\\x00\\x00\\x00\\x00\\x00\\x00\\t\\x02\\x01\\x01\\x00\\xcaG'\n",
    "for byte in mavlink_message:\n",
    "    msg = dec.parse_char(bytes([byte]))  # Преобразуем каждый элемент в байт\n",
    "    if msg:\n",
    "        print(msg)\n"
   ]
  }
 ],
 "metadata": {
  "kernelspec": {
   "display_name": "python",
   "language": "python",
   "name": "python3"
  },
  "language_info": {
   "codemirror_mode": {
    "name": "ipython",
    "version": 3
   },
   "file_extension": ".py",
   "mimetype": "text/x-python",
   "name": "python",
   "nbconvert_exporter": "python",
   "pygments_lexer": "ipython3",
   "version": "3.12.3"
  }
 },
 "nbformat": 4,
 "nbformat_minor": 2
}
