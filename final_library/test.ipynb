{
 "cells": [
  {
   "cell_type": "code",
   "execution_count": 1,
   "metadata": {},
   "outputs": [],
   "source": [
    "from msgs import MAVLink_heartbeat_message"
   ]
  },
  {
   "cell_type": "code",
   "execution_count": null,
   "metadata": {},
   "outputs": [],
   "source": [
    "# __init__(self, type: int, autopilot: int, base_mode: int, custom_mode: int, system_status: int, mavlink_version: int)\n",
    "MAV_TYPE = 2\n",
    "MAV_AUTOPILOT = 1\n",
    "MAV_MODE = 0\n",
    "MAV_STATE = 0\n",
    "MAVLINK_VERSION = 1\n",
    "CRC_EXTRA_HEARTBEAT = 50\n",
    "CRC_EXTRA_COMMAND_LONG = 20\n",
    "CRC_EXTRA_COMMAND_ACK = 143\n",
    "\n",
    "msg = MAVLink_heartbeat_message(type=MAV_TYPE, autopilot=MAV_AUTOPILOT, base_mode=MAV_MODE, custom_mode=MAV_MODE, system_status=MAV_STATE, mavlink_version=MAVLINK_VERSION)\n",
    "for i in range(1):\n",
    "    print(msg.get_message())"
   ]
  },
  {
   "cell_type": "markdown",
   "metadata": {},
   "source": [
    "# Testing decoder"
   ]
  },
  {
   "cell_type": "code",
   "execution_count": null,
   "metadata": {},
   "outputs": [],
   "source": [
    "from decoder import decoder\n",
    "\n",
    "dec = decoder()\n",
    "# mavlink_message = b'\\xfe!\\x0f\\xff\\xbeL\\x00\\x00\\x80?\\x00\\x00\\x00\\x00\\x00\\x00\\x00\\x00\\x00\\x00\\x00\\x00\\x00\\x00\\x00\\x00\\x00\\x00\\x00\\x00\\x00\\x00\\x00\\x00\\t\\x02\\x01\\x01\\x00\\xcaG'\n",
    "mavlink_message = b'\\xfe\\t\\xc7\\xff\\xbe\\x00\\x00\\x00\\x00\\x00\\x06\\x08\\xc0\\x04\\x03\\xa6\\xaf'\n",
    "\n",
    "\n",
    "for byte in mavlink_message:\n",
    "    msg = dec.parse_char(bytes([byte]))  # Преобразуем каждый элемент в байт\n",
    "    if msg:\n",
    "        print(msg)\n"
   ]
  },
  {
   "cell_type": "code",
   "execution_count": 15,
   "metadata": {},
   "outputs": [
    {
     "name": "stdout",
     "output_type": "stream",
     "text": [
      "HEARTBEAT {type : 6, autopilot : 8, base_mode : 192, custom_mode : 0, system_status : 4, mavlink_version : 3}\n"
     ]
    }
   ],
   "source": [
    "from pymavlink import mavutil\n",
    "\n",
    "# Создаем MAVLink объект\n",
    "master = mavutil.mavlink.MAVLink(None)  # None, потому что мы не используем поток данных\n",
    "\n",
    "# Ваше MAVLink-сообщение\n",
    "# mavlink_message = b'\\xfe!\\x0f\\xff\\xbeL\\x00\\x00\\x80?\\x00\\x00\\x00\\x00\\x00\\x00\\x00\\x00\\x00\\x00\\x00\\x00\\x00\\x00\\x00\\x00\\x00\\x00\\x00\\x00\\x00\\x00\\x00\\x00\\t\\x02\\x01\\x01\\x00\\xcaG'\n",
    "\n",
    "# sent = b'\\xfe\\t\\x00\\x01\\x01\\x00\\x00\\x00\\x00\\x00\\x02\\x01\\x00\\x00\\x01\\x89R'\n",
    "# from_msg = b'\\xfe\\t\\xc3\\xff\\xbe\\x00\\x00\\x00\\x00\\x00\\x06\\x08\\xc0\\x04\\x03\\x1f\\\\'\n",
    "# from_msg = b'\\xfe\\t\\xc4\\xff\\xbe\\x00\\x00\\x00\\x00\\x00\\x06\\x08\\xc0\\x04\\x03\\x98,'\n",
    "# from_msg = b'\\xfe\\t\\xc5\\xff\\xbe\\x00\\x00\\x00\\x00\\x00\\x06\\x08\\xc0\\x04\\x03rR'\n",
    "# from_msg = b'\\xfe\\t\\xc6\\xff\\xbe\\x00\\x00\\x00\\x00\\x00\\x06\\x08\\xc0\\x04\\x03L\\xd1'\n",
    "# from_msg = b'\\xfe\\t\\xc7\\xff\\xbe\\x00\\x00\\x00\\x00\\x00\\x06\\x08\\xc0\\x04\\x03\\xa6\\xaf'\n",
    "# from_msg = b'\\xfe\\t\\xc8\\xff\\xbe\\x00\\x00\\x00\\x00\\x00\\x06\\x08\\xc0\\x04\\x03B0'\n",
    "from_msg = b'\\xfe\\t\\xc9\\xff\\xbe\\x00\\x00\\x00\\x00\\x00\\x06\\x08\\xc0\\x04\\x03\\xa8N'\n",
    "\n",
    "\n",
    "# Парсим сообщение по байтам\n",
    "for byte in from_msg:\n",
    "    msg = master.parse_char(bytes([byte]))  # Преобразуем каждый элемент в байт\n",
    "    if msg:\n",
    "        print(msg)\n"
   ]
  }
 ],
 "metadata": {
  "kernelspec": {
   "display_name": "python",
   "language": "python",
   "name": "python3"
  },
  "language_info": {
   "codemirror_mode": {
    "name": "ipython",
    "version": 3
   },
   "file_extension": ".py",
   "mimetype": "text/x-python",
   "name": "python",
   "nbconvert_exporter": "python",
   "pygments_lexer": "ipython3",
   "version": "3.12.3"
  }
 },
 "nbformat": 4,
 "nbformat_minor": 2
}
