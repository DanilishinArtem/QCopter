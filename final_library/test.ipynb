{
 "cells": [
  {
   "cell_type": "code",
   "execution_count": 1,
   "metadata": {},
   "outputs": [],
   "source": [
    "from msgs import MAVLink_heartbeat_message"
   ]
  },
  {
   "cell_type": "code",
   "execution_count": 2,
   "metadata": {},
   "outputs": [
    {
     "name": "stdout",
     "output_type": "stream",
     "text": [
      "b'\\xfe\\t\\x00\\x01\\x01\\x00\\x00\\x00\\x00\\x00\\x02\\x01\\x00\\x00\\x01\\x89R'\n"
     ]
    }
   ],
   "source": [
    "# __init__(self, type: int, autopilot: int, base_mode: int, custom_mode: int, system_status: int, mavlink_version: int)\n",
    "MAV_TYPE = 2\n",
    "MAV_AUTOPILOT = 1\n",
    "MAV_MODE = 0\n",
    "MAV_STATE = 0\n",
    "MAVLINK_VERSION = 1\n",
    "CRC_EXTRA_HEARTBEAT = 50\n",
    "CRC_EXTRA_COMMAND_LONG = 20\n",
    "CRC_EXTRA_COMMAND_ACK = 143\n",
    "\n",
    "msg = MAVLink_heartbeat_message(type=MAV_TYPE, autopilot=MAV_AUTOPILOT, base_mode=MAV_MODE, custom_mode=MAV_MODE, system_status=MAV_STATE, mavlink_version=MAVLINK_VERSION)\n",
    "for i in range(1):\n",
    "    print(msg.get_message())"
   ]
  },
  {
   "cell_type": "markdown",
   "metadata": {},
   "source": [
    "# Testing decoder"
   ]
  },
  {
   "cell_type": "code",
   "execution_count": 6,
   "metadata": {},
   "outputs": [
    {
     "name": "stdout",
     "output_type": "stream",
     "text": [
      "x: 0, y: 0, z: 500\n"
     ]
    }
   ],
   "source": [
    "from decoder import decoder\n",
    "\n",
    "dec = decoder()\n",
    "# known msgs ------------------------>\n",
    "# from_msg = b'\\xfe!\\x13\\xff\\xbeL\\x00\\x00\\x14C\\x00\\x00\\x00\\x00\\x00\\x00\\x00\\x00\\x00\\x00\\x00\\x00\\x00\\x00\\x00\\x00\\x00\\x00\\x00\\x00\\x00\\x00\\x00\\x00\\x00\\x02\\x01\\x01\\x00Q-'\n",
    "\n",
    "# unknown msgs ------------------------>\n",
    "# from_msg = b'\\xfe\\x0b\\x16\\xff\\xbeE\\x00\\x00\\x00\\x00\\xf4\\x01\\x00\\x00\\x00\\x00\\x01\\xb2\\x82'\n",
    "# from_msg = b'\\xfe\\x0b \\xff\\xbeE\\x00\\x00\\x00\\x00\\xf4\\x01\\x00\\x00\\x00\\x00\\x01hT'\n",
    "from_msg = b'\\xfe\\x0b\\xe5\\xff\\xbeE\\x00\\x00\\x00\\x00\\xf4\\x01\\x00\\x00\\x00\\x00\\x01\\r@'\n",
    "\n",
    "\n",
    "\n",
    "for byte in from_msg:\n",
    "    msg = dec.parse_char(bytes([byte]))  # Преобразуем каждый элемент в байт\n",
    "    if msg:\n",
    "        # Проверяем тип сообщения\n",
    "        if msg.get_type() == \"MANUAL_CONTROL\":\n",
    "            # Извлекаем значения полей\n",
    "            x = msg.x\n",
    "            y = msg.y\n",
    "            z = msg.z\n",
    "            print(f\"x: {x}, y: {y}, z: {z}\")\n"
   ]
  },
  {
   "cell_type": "code",
   "execution_count": null,
   "metadata": {},
   "outputs": [],
   "source": [
    "import struct\n",
    "temp = bytearray(b'\\xfe\\x0b\\xe5\\xff\\xbeE')\n",
    "struct.unpack(\"<cBBBBB\", temp)\n",
    "# temp.decode('utf-8')"
   ]
  },
  {
   "cell_type": "code",
   "execution_count": 5,
   "metadata": {},
   "outputs": [
    {
     "name": "stdout",
     "output_type": "stream",
     "text": [
      "x: 0, y: 0, z: 500\n"
     ]
    }
   ],
   "source": [
    "from pymavlink import mavutil\n",
    "\n",
    "# Создаем объект MAVLink\n",
    "master = mavutil.mavlink.MAVLink(None)  # None, потому что мы не используем поток данных\n",
    "\n",
    "# Сообщение в байтах\n",
    "from_msg = b'\\xfe\\x0b\\xe5\\xff\\xbeE\\x00\\x00\\x00\\x00\\xf4\\x01\\x00\\x00\\x00\\x00\\x01\\r@'\n",
    "\n",
    "# Парсинг сообщения\n",
    "for byte in from_msg:\n",
    "    msg = master.parse_char(bytes([byte]))  # Преобразуем каждый элемент в байт\n",
    "    if msg:\n",
    "        # Проверяем тип сообщения\n",
    "        if msg.get_type() == \"MANUAL_CONTROL\":\n",
    "            # Извлекаем значения полей\n",
    "            x = msg.x\n",
    "            y = msg.y\n",
    "            z = msg.z\n",
    "            print(f\"x: {x}, y: {y}, z: {z}\")"
   ]
  }
 ],
 "metadata": {
  "kernelspec": {
   "display_name": "python",
   "language": "python",
   "name": "python3"
  },
  "language_info": {
   "codemirror_mode": {
    "name": "ipython",
    "version": 3
   },
   "file_extension": ".py",
   "mimetype": "text/x-python",
   "name": "python",
   "nbconvert_exporter": "python",
   "pygments_lexer": "ipython3",
   "version": "3.12.3"
  }
 },
 "nbformat": 4,
 "nbformat_minor": 2
}
