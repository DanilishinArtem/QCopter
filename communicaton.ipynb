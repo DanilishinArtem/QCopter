{
 "cells": [
  {
   "cell_type": "code",
   "execution_count": null,
   "metadata": {},
   "outputs": [],
   "source": [
    "import socket\n",
    "import struct\n",
    "import network\n",
    "import time\n"
   ]
  },
  {
   "cell_type": "code",
   "execution_count": null,
   "metadata": {},
   "outputs": [],
   "source": [
    "class Communication:\n",
    "    def __init__(self, essid: str, password: str, mav_type: int, mav_autopilot: int, mav_mode: int, mav_state: int, version: int):\n",
    "        self.MAV_TYPE = mav_type  # Quadrotor\n",
    "        self.MAV_AUTOPILOT = mav_autopilot  # Generic autopilot\n",
    "        self.MAV_MODE = mav_mode  # Preflight\n",
    "        self.MAV_STATE = mav_state  # Standby\n",
    "        self.MAVLINK_VERSION = version  # MAVLink 1.0\n",
    "        self.CRC_EXTRA_HEARTBEAT = 50  # CRC_EXTRA for heartbeat message\n",
    "        self.CRC_EXTRA_COMMAND_LONG = 20  # CRC_EXTRA for COMMAND_LONG message\n",
    "        self.CRC_EXTRA_COMMAND_ACK = 143\n",
    "        self.create_AP(essid=essid, password=password)\n",
    "        self.sock = socket.socket(socket.AF_INET, socket.SOCK_DGRAM)\n",
    "\n",
    "    def create_AP(self, essid: str, password: str):\n",
    "        ap = network.WLAN(network.AP_IF)\n",
    "        ap.active(True)\n",
    "        ap.config(essid=essid, password=password, authmode=network.AUTH_WPA2_PSK)\n",
    "        while not ap.active():\n",
    "            pass\n",
    "        print('Access point is ready')\n",
    "        print('Configuration of the network: {}'.format(ap.ifconfig()))\n",
    "\n",
    "    def crc_accumulate(self, data, crcAccum):\n",
    "        tmp = data ^ (crcAccum & 0xFF)\n",
    "        tmp = (tmp ^ (tmp << 4)) & 0xFF\n",
    "        crcAccum = ((crcAccum >> 8) ^ (tmp << 8) ^ (tmp << 3) ^ (tmp >> 4)) & 0xFFFF\n",
    "        return crcAccum\n",
    "\n",
    "    def crc_calculate(self, buffer):\n",
    "        crc = 0xFFFF  # Initial value\n",
    "        for byte in buffer:\n",
    "            crc = self.crc_accumulate(byte, crc)\n",
    "        return crc\n",
    "\n",
    "    def create_heartbeat(self, system_id, component_id):\n",
    "        # Heartbeat payload\n",
    "        payload = struct.pack('<IBBBBB',\n",
    "            0,  # custom_mode\n",
    "            self.MAV_TYPE,  # mav_type\n",
    "            self.MAV_AUTOPILOT,  # autopilot\n",
    "            self.MAV_MODE,  # base_mode\n",
    "            self.MAV_STATE,  # system_status\n",
    "            self.MAVLINK_VERSION  # mavlink_version\n",
    "        )\n",
    "        # MAVLink header\n",
    "        header = struct.pack('<BBBBBB',\n",
    "            0xFE,  # Start byte (MAVLink 1.0)\n",
    "            len(payload),  # Payload length\n",
    "            0,  # Sequence number (can be incremented each message)\n",
    "            system_id,  # System ID\n",
    "            component_id,  # Component ID\n",
    "            0  # Message ID for heartbeat\n",
    "        )\n",
    "        message = header + payload\n",
    "        crc = self.crc_calculate(message[1:])\n",
    "        crc = self.crc_accumulate(self.CRC_EXTRA_HEARTBEAT, crc)\n",
    "        full_message = message + struct.pack('<H', crc)\n",
    "        return full_message\n",
    "\n",
    "    def send_heartbeat(self, udp_ip=\"192.168.4.255\", udp_port=14550):\n",
    "        system_id = 1\n",
    "        component_id = 1\n",
    "        # Create and serialize the heartbeat message\n",
    "        heartbeat_message = self.create_heartbeat(system_id, component_id)\n",
    "        # Send the heartbeat message via UDP\n",
    "        self.sock.sendto(heartbeat_message, (udp_ip, udp_port))\n",
    "        print(\"Heartbeat message sent:\", heartbeat_message)\n",
    "        \n",
    "    def receive_message(self):\n",
    "        data, addr = self.sock.recvfrom(1024)  # Получение данных из сокета\n",
    "        print(f\"Received message from {addr}: {data}\")"
   ]
  },
  {
   "cell_type": "code",
   "execution_count": null,
   "metadata": {},
   "outputs": [],
   "source": [
    "# отлично, как теперь сделать так, чтобы esp слушал сообщения и посылал их в отдельных потоках?"
   ]
  },
  {
   "cell_type": "code",
   "execution_count": null,
   "metadata": {},
   "outputs": [],
   "source": []
  }
 ],
 "metadata": {
  "language_info": {
   "name": "python"
  }
 },
 "nbformat": 4,
 "nbformat_minor": 2
}
